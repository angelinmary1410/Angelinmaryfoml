{
 "cells": [
  {
   "cell_type": "code",
   "execution_count": 1,
   "id": "20812bf3-c342-462b-ba84-d912850fdd62",
   "metadata": {},
   "outputs": [
    {
     "name": "stdout",
     "output_type": "stream",
     "text": [
      "Weights from input to hidden layer:\n",
      " [[4.00840544 0.80153854]\n",
      " [4.01462007 0.91862597]]\n",
      "Weights from hidden to output layer:\n",
      " [[ 9.28348555]\n",
      " [-1.14828826]]\n",
      "Biases for hidden layer:\n",
      " [-5.87272828  1.65759993]\n",
      "Bias for output layer:\n",
      " [-3.84068484]\n",
      "Prediction for [1, 0]: [[0.02526672]]\n",
      "Prediction for [1, 1]: [[0.96656366]]\n",
      "Prediction for [0, 0]: [[0.00833362]]\n",
      "Prediction for [0, 1]: [[0.02520352]]\n"
     ]
    }
   ],
   "source": [
    "import numpy as np\n",
    "\n",
    "input_value = np.array([[0, 0], [0, 1], [1, 1], [1, 0]])\n",
    "output = np.array([0, 0, 1, 0]).reshape(4, 1)\n",
    "\n",
    "input_layer_neurons = input_value.shape[1]\n",
    "hidden_layer_neurons = 2\n",
    "output_neurons = 1\n",
    "\n",
    "weights_input_hidden = np.random.rand(input_layer_neurons, hidden_layer_neurons)\n",
    "weights_hidden_output = np.random.rand(hidden_layer_neurons, output_neurons)\n",
    "bias_hidden = np.random.rand(hidden_layer_neurons)\n",
    "bias_output = np.random.rand(output_neurons)\n",
    "\n",
    "def sigmoid_func(x):\n",
    "    return 1 / (1 + np.exp(-x))\n",
    "\n",
    "def sigmoid_derivative(x):\n",
    "    return x * (1 - x)\n",
    "\n",
    "learning_rate = 0.1\n",
    "epochs = 15000\n",
    "\n",
    "for _ in range(epochs):\n",
    "    hidden_layer_input = np.dot(input_value, weights_input_hidden) + bias_hidden\n",
    "    hidden_layer_output = sigmoid_func(hidden_layer_input)\n",
    "   \n",
    "    output_layer_input = np.dot(hidden_layer_output, weights_hidden_output) + bias_output\n",
    "    predicted_output = sigmoid_func(output_layer_input)\n",
    "\n",
    "    error = output - predicted_output\n",
    "    total_error = np.mean(np.square(error))\n",
    "\n",
    "    d_predicted_output = error * sigmoid_derivative(predicted_output)\n",
    "    error_hidden_layer = d_predicted_output.dot(weights_hidden_output.T)\n",
    "    d_hidden_layer = error_hidden_layer * sigmoid_derivative(hidden_layer_output)\n",
    "\n",
    "    weights_hidden_output += hidden_layer_output.T.dot(d_predicted_output) * learning_rate\n",
    "    weights_input_hidden += input_value.T.dot(d_hidden_layer) * learning_rate\n",
    "    bias_output += np.sum(d_predicted_output, axis=0) * learning_rate\n",
    "    bias_hidden += np.sum(d_hidden_layer, axis=0) * learning_rate\n",
    "\n",
    "print(\"Weights from input to hidden layer:\\n\", weights_input_hidden)\n",
    "print(\"Weights from hidden to output layer:\\n\", weights_hidden_output)\n",
    "print(\"Biases for hidden layer:\\n\", bias_hidden)\n",
    "print(\"Bias for output layer:\\n\", bias_output)\n",
    "\n",
    "def predict(input_data):\n",
    "    hidden_layer_input = np.dot(input_data, weights_input_hidden) + bias_hidden\n",
    "    hidden_layer_output = sigmoid_func(hidden_layer_input)\n",
    "    output_layer_input = np.dot(hidden_layer_output, weights_hidden_output) + bias_output\n",
    "    return sigmoid_func(output_layer_input)\n",
    "\n",
    "print(\"Prediction for [1, 0]:\", predict(np.array([1, 0]).reshape(1, -1)))\n",
    "print(\"Prediction for [1, 1]:\", predict(np.array([1, 1]).reshape(1, -1)))\n",
    "print(\"Prediction for [0, 0]:\", predict(np.array([0, 0]).reshape(1, -1)))\n",
    "print(\"Prediction for [0, 1]:\", predict(np.array([0, 1]).reshape(1, -1)))\n"
   ]
  },
  {
   "cell_type": "code",
   "execution_count": null,
   "id": "8e5bffb4-ffbc-4d26-83fe-19161c20f711",
   "metadata": {},
   "outputs": [],
   "source": []
  }
 ],
 "metadata": {
  "kernelspec": {
   "display_name": "Python 3 (ipykernel)",
   "language": "python",
   "name": "python3"
  },
  "language_info": {
   "codemirror_mode": {
    "name": "ipython",
    "version": 3
   },
   "file_extension": ".py",
   "mimetype": "text/x-python",
   "name": "python",
   "nbconvert_exporter": "python",
   "pygments_lexer": "ipython3",
   "version": "3.11.5"
  }
 },
 "nbformat": 4,
 "nbformat_minor": 5
}
