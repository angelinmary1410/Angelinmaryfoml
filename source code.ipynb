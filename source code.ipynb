{
 "cells": [
  {
   "cell_type": "code",
   "execution_count": 8,
   "id": "4849bf17-85ba-4dcf-8fcb-e3ae2fd3696b",
   "metadata": {},
   "outputs": [
    {
     "name": "stdout",
     "output_type": "stream",
     "text": [
      "Accuracy: 0.9808612440191388\n",
      "\n",
      "Classification Report:\n",
      "               precision    recall  f1-score   support\n",
      "\n",
      "           0       0.98      1.00      0.99      1448\n",
      "           1       0.99      0.87      0.92       224\n",
      "\n",
      "    accuracy                           0.98      1672\n",
      "   macro avg       0.98      0.93      0.96      1672\n",
      "weighted avg       0.98      0.98      0.98      1672\n",
      "\n",
      "Message: Congratulations! You've won a $1,000 gift card. Click here to claim your prize. | Prediction: Spam\n",
      "Message: Don't forget our meeting at 10 AM tomorrow. | Prediction: Ham\n"
     ]
    }
   ],
   "source": [
    "import pandas as pd\n",
    "from sklearn.model_selection import train_test_split\n",
    "from sklearn.feature_extraction.text import TfidfVectorizer\n",
    "from sklearn.naive_bayes import MultinomialNB\n",
    "from sklearn.metrics import classification_report, accuracy_score\n",
    "\n",
    "# Load the dataset\n",
    "file_path = \"C:/Users/Angelin mary/Downloads/spam.csv\"  # Forward slashes\n",
    "data = pd.read_csv(file_path)\n",
    "\n",
    "data.columns = ['category', 'message']\n",
    "\n",
    "# Encode the target variable: 'spam' = 1, 'ham' = 0\n",
    "data['category'] = data['category'].map({'spam': 1, 'ham': 0})\n",
    "\n",
    "# Split the data into training and testing sets\n",
    "X_train, X_test, y_train, y_test = train_test_split(\n",
    "    data['message'], data['category'], test_size=0.3, random_state=42)\n",
    "\n",
    "# Convert text to numerical data using TF-IDF Vectorizer\n",
    "vectorizer = TfidfVectorizer(stop_words='english', max_features=3000)\n",
    "X_train_tfidf = vectorizer.fit_transform(X_train)\n",
    "X_test_tfidf = vectorizer.transform(X_test)\n",
    "\n",
    "# Train a Naive Bayes classifier\n",
    "classifier = MultinomialNB()\n",
    "classifier.fit(X_train_tfidf, y_train)\n",
    "\n",
    "# Make predictions on the test set\n",
    "y_pred = classifier.predict(X_test_tfidf)\n",
    "\n",
    "# Evaluate the model\n",
    "print(\"Accuracy:\", accuracy_score(y_test, y_pred))\n",
    "print(\"\\nClassification Report:\\n\", classification_report(y_test, y_pred))\n",
    "\n",
    "# Test with a new message\n",
    "new_messages = [\"Congratulations! You've won a $1,000 gift card. Click here to claim your prize.\",\n",
    "                \"Don't forget our meeting at 10 AM tomorrow.\"]\n",
    "new_messages_tfidf = vectorizer.transform(new_messages)\n",
    "predictions = classifier.predict(new_messages_tfidf)\n",
    "\n",
    "# Display predictions\n",
    "for msg, pred in zip(new_messages, predictions):\n",
    "    print(f\"Message: {msg} | Prediction: {'Spam' if pred == 1 else 'Ham'}\")\n"
   ]
  },
  {
   "cell_type": "code",
   "execution_count": null,
   "id": "be08fdfe-9bc1-45b8-987a-51166b5ec7fc",
   "metadata": {},
   "outputs": [],
   "source": []
  },
  {
   "cell_type": "code",
   "execution_count": null,
   "id": "f066a666-1e5e-49a4-90af-39f6f3e382a3",
   "metadata": {},
   "outputs": [],
   "source": []
  }
 ],
 "metadata": {
  "kernelspec": {
   "display_name": "Python 3 (ipykernel)",
   "language": "python",
   "name": "python3"
  },
  "language_info": {
   "codemirror_mode": {
    "name": "ipython",
    "version": 3
   },
   "file_extension": ".py",
   "mimetype": "text/x-python",
   "name": "python",
   "nbconvert_exporter": "python",
   "pygments_lexer": "ipython3",
   "version": "3.12.7"
  }
 },
 "nbformat": 4,
 "nbformat_minor": 5
}
