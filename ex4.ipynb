{
 "cells": [
  {
   "cell_type": "code",
   "execution_count": 1,
   "id": "6b695cf8-d1f9-4d26-8f21-3ea5d845e6ca",
   "metadata": {},
   "outputs": [
    {
     "name": "stdout",
     "output_type": "stream",
     "text": [
      "Prediction for [0, 0]: 0\n",
      "Prediction for [0, 1]: 0\n",
      "Prediction for [1, 0]: 0\n",
      "Prediction for [1, 1]: 1\n"
     ]
    }
   ],
   "source": [
    "import numpy as np\n",
    "\n",
    "# Input dataset (AND gate example)\n",
    "X = np.array([[0, 0], [0, 1], [1, 0], [1, 1]])\n",
    "y = np.array([0, 0, 0, 1])  # AND operation\n",
    "\n",
    "# Initialize weights and bias\n",
    "weights = np.random.rand(2)\n",
    "bias = np.random.rand()\n",
    "learning_rate = 0.1\n",
    "epochs = 1000\n",
    "\n",
    "# Activation function\n",
    "def step_function(x):\n",
    "    return 1 if x >= 0 else 0\n",
    "\n",
    "# Training the perceptron\n",
    "for _ in range(epochs):\n",
    "    for i in range(X.shape[0]):\n",
    "        # Weighted sum\n",
    "        z = np.dot(X[i], weights) + bias\n",
    "        # Predicted output\n",
    "        y_pred = step_function(z)\n",
    "        # Error calculation\n",
    "        error = y[i] - y_pred\n",
    "        # Update weights and bias\n",
    "        weights += learning_rate * error * X[i]\n",
    "        bias += learning_rate * error\n",
    "\n",
    "# Testing the perceptron\n",
    "def predict(input_data):\n",
    "    z = np.dot(input_data, weights) + bias\n",
    "    return step_function(z)\n",
    "\n",
    "# Predictions\n",
    "print(\"Prediction for [0, 0]:\", predict(np.array([0, 0])))\n",
    "print(\"Prediction for [0, 1]:\", predict(np.array([0, 1])))\n",
    "print(\"Prediction for [1, 0]:\", predict(np.array([1, 0])))\n",
    "print(\"Prediction for [1, 1]:\", predict(np.array([1, 1])))\n"
   ]
  },
  {
   "cell_type": "code",
   "execution_count": null,
   "id": "378152f4-3af1-4233-bb59-5ac38daf4ce7",
   "metadata": {},
   "outputs": [],
   "source": []
  }
 ],
 "metadata": {
  "kernelspec": {
   "display_name": "Python 3 (ipykernel)",
   "language": "python",
   "name": "python3"
  },
  "language_info": {
   "codemirror_mode": {
    "name": "ipython",
    "version": 3
   },
   "file_extension": ".py",
   "mimetype": "text/x-python",
   "name": "python",
   "nbconvert_exporter": "python",
   "pygments_lexer": "ipython3",
   "version": "3.11.5"
  }
 },
 "nbformat": 4,
 "nbformat_minor": 5
}
