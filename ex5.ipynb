{
 "cells": [
  {
   "cell_type": "code",
   "execution_count": 1,
   "id": "6477d4ff-7cb7-4357-b731-b62e8ac0e21b",
   "metadata": {},
   "outputs": [
    {
     "name": "stdout",
     "output_type": "stream",
     "text": [
      "\n",
      "Training MLPClassifier with activation function: relu\n",
      "Confusion Matrix:\n",
      "[[149   0]\n",
      " [  0 126]]\n",
      "\n",
      "Classification Report:\n",
      "              precision    recall  f1-score   support\n",
      "\n",
      "           0       1.00      1.00      1.00       149\n",
      "           1       1.00      1.00      1.00       126\n",
      "\n",
      "    accuracy                           1.00       275\n",
      "   macro avg       1.00      1.00      1.00       275\n",
      "weighted avg       1.00      1.00      1.00       275\n",
      "\n",
      "\n",
      "Training MLPClassifier with activation function: logistic\n",
      "Confusion Matrix:\n",
      "[[149   0]\n",
      " [  0 126]]\n",
      "\n",
      "Classification Report:\n",
      "              precision    recall  f1-score   support\n",
      "\n",
      "           0       1.00      1.00      1.00       149\n",
      "           1       1.00      1.00      1.00       126\n",
      "\n",
      "    accuracy                           1.00       275\n",
      "   macro avg       1.00      1.00      1.00       275\n",
      "weighted avg       1.00      1.00      1.00       275\n",
      "\n",
      "\n",
      "Training MLPClassifier with activation function: tanh\n",
      "Confusion Matrix:\n",
      "[[149   0]\n",
      " [  0 126]]\n",
      "\n",
      "Classification Report:\n",
      "              precision    recall  f1-score   support\n",
      "\n",
      "           0       1.00      1.00      1.00       149\n",
      "           1       1.00      1.00      1.00       126\n",
      "\n",
      "    accuracy                           1.00       275\n",
      "   macro avg       1.00      1.00      1.00       275\n",
      "weighted avg       1.00      1.00      1.00       275\n",
      "\n",
      "\n",
      "Training MLPClassifier with activation function: identity\n",
      "Confusion Matrix:\n",
      "[[146   3]\n",
      " [  1 125]]\n",
      "\n",
      "Classification Report:\n",
      "              precision    recall  f1-score   support\n",
      "\n",
      "           0       0.99      0.98      0.99       149\n",
      "           1       0.98      0.99      0.98       126\n",
      "\n",
      "    accuracy                           0.99       275\n",
      "   macro avg       0.98      0.99      0.99       275\n",
      "weighted avg       0.99      0.99      0.99       275\n",
      "\n",
      "\n",
      "Training MLPClassifier with activation function: relu (Train-Test Ratio: 0.3)\n",
      "Confusion Matrix:\n",
      "[[230   0]\n",
      " [  0 182]]\n",
      "\n",
      "Classification Report:\n",
      "              precision    recall  f1-score   support\n",
      "\n",
      "           0       1.00      1.00      1.00       230\n",
      "           1       1.00      1.00      1.00       182\n",
      "\n",
      "    accuracy                           1.00       412\n",
      "   macro avg       1.00      1.00      1.00       412\n",
      "weighted avg       1.00      1.00      1.00       412\n",
      "\n",
      "\n",
      "Training MLPClassifier with activation function: logistic (Train-Test Ratio: 0.3)\n",
      "Confusion Matrix:\n",
      "[[230   0]\n",
      " [  1 181]]\n",
      "\n",
      "Classification Report:\n",
      "              precision    recall  f1-score   support\n",
      "\n",
      "           0       1.00      1.00      1.00       230\n",
      "           1       1.00      0.99      1.00       182\n",
      "\n",
      "    accuracy                           1.00       412\n",
      "   macro avg       1.00      1.00      1.00       412\n",
      "weighted avg       1.00      1.00      1.00       412\n",
      "\n",
      "\n",
      "Training MLPClassifier with activation function: tanh (Train-Test Ratio: 0.3)\n",
      "Confusion Matrix:\n",
      "[[230   0]\n",
      " [  0 182]]\n",
      "\n",
      "Classification Report:\n",
      "              precision    recall  f1-score   support\n",
      "\n",
      "           0       1.00      1.00      1.00       230\n",
      "           1       1.00      1.00      1.00       182\n",
      "\n",
      "    accuracy                           1.00       412\n",
      "   macro avg       1.00      1.00      1.00       412\n",
      "weighted avg       1.00      1.00      1.00       412\n",
      "\n",
      "\n",
      "Training MLPClassifier with activation function: identity (Train-Test Ratio: 0.3)\n",
      "Confusion Matrix:\n",
      "[[229   1]\n",
      " [  5 177]]\n",
      "\n",
      "Classification Report:\n",
      "              precision    recall  f1-score   support\n",
      "\n",
      "           0       0.98      1.00      0.99       230\n",
      "           1       0.99      0.97      0.98       182\n",
      "\n",
      "    accuracy                           0.99       412\n",
      "   macro avg       0.99      0.98      0.99       412\n",
      "weighted avg       0.99      0.99      0.99       412\n",
      "\n"
     ]
    }
   ],
   "source": [
    "import pandas as pd\n",
    "import numpy as np\n",
    "from sklearn.model_selection import train_test_split\n",
    "from sklearn.neural_network import MLPClassifier\n",
    "from sklearn.metrics import classification_report, confusion_matrix\n",
    "\n",
    "bnotes = pd.read_csv('banknote-authentication - banknote-authentication.csv')\n",
    "\n",
    "x = bnotes.drop('class', axis=1)  \n",
    "y = bnotes['class']\n",
    "\n",
    "x_train, x_test, y_train, y_test = train_test_split(x, y, test_size=0.2)\n",
    "\n",
    "activations = ['relu', 'logistic', 'tanh', 'identity']\n",
    "\n",
    "for activation in activations:\n",
    "    print(f\"\\nTraining MLPClassifier with activation function: {activation}\")\n",
    "    mlp = MLPClassifier(max_iter=500, activation=activation)\n",
    "    mlp.fit(x_train, y_train)\n",
    "    pred = mlp.predict(x_test)\n",
    "    print(\"Confusion Matrix:\")\n",
    "    print(confusion_matrix(y_test, pred))\n",
    "    print(\"\\nClassification Report:\")\n",
    "    print(classification_report(y_test, pred))\n",
    "\n",
    "x_train, x_test, y_train, y_test = train_test_split(x, y, test_size=0.3)\n",
    "\n",
    "for activation in activations:\n",
    "    print(f\"\\nTraining MLPClassifier with activation function: {activation} (Train-Test Ratio: 0.3)\")\n",
    "    mlp = MLPClassifier(max_iter=500, activation=activation)\n",
    "    mlp.fit(x_train, y_train)\n",
    "    pred = mlp.predict(x_test)\n",
    "    print(\"Confusion Matrix:\")\n",
    "    print(confusion_matrix(y_test, pred))\n",
    "    print(\"\\nClassification Report:\")\n",
    "    print(classification_report(y_test, pred))\n"
   ]
  },
  {
   "cell_type": "code",
   "execution_count": 1,
   "id": "9459f575-1e05-4b6c-88da-9e13bad4d857",
   "metadata": {},
   "outputs": [],
   "source": [
    "import pandas as pd\n",
    "import numpy as np\n",
    "from sklearn.model_selection import train_test_split\n",
    "from sklearn.neural_network import MLPClassifier\n",
    "from sklearn.metrics import classification_report, confusion_matrix"
   ]
  },
  {
   "cell_type": "code",
   "execution_count": 8,
   "id": "707318e8-f6a1-4d00-a51f-40811cad52fd",
   "metadata": {},
   "outputs": [],
   "source": [
    "bnotes=pd.read_csv(\"banknote-authentication - banknote-authentication.csv\")"
   ]
  },
  {
   "cell_type": "code",
   "execution_count": 5,
   "id": "6f3c4757-2bfa-415c-adce-1e201fe2e7a9",
   "metadata": {},
   "outputs": [
    {
     "ename": "NameError",
     "evalue": "name 'bnotes' is not defined",
     "output_type": "error",
     "traceback": [
      "\u001b[1;31m---------------------------------------------------------------------------\u001b[0m",
      "\u001b[1;31mNameError\u001b[0m                                 Traceback (most recent call last)",
      "Cell \u001b[1;32mIn[5], line 1\u001b[0m\n\u001b[1;32m----> 1\u001b[0m x\u001b[38;5;241m=\u001b[39m\u001b[43mbnotes\u001b[49m\u001b[38;5;241m.\u001b[39mdrop(\u001b[38;5;124m'\u001b[39m\u001b[38;5;124mclass\u001b[39m\u001b[38;5;124m'\u001b[39m,axis\u001b[38;5;241m=\u001b[39m\u001b[38;5;241m1\u001b[39m)\n",
      "\u001b[1;31mNameError\u001b[0m: name 'bnotes' is not defined"
     ]
    }
   ],
   "source": []
  },
  {
   "cell_type": "code",
   "execution_count": 9,
   "id": "e7cd4f87-5905-4344-adc1-4176f0d83c30",
   "metadata": {},
   "outputs": [],
   "source": [
    "bnotes=pd.read_csv(\"banknote-authentication - banknote-authentication.csv\")"
   ]
  },
  {
   "cell_type": "code",
   "execution_count": 10,
   "id": "72e3c8f6-2fc7-4e4b-ac41-38a5fcb809bd",
   "metadata": {},
   "outputs": [],
   "source": [
    "x=bnotes.drop('class',axis=1)\n"
   ]
  },
  {
   "cell_type": "code",
   "execution_count": 11,
   "id": "5512bd74-5104-492f-9176-3741bc764dd9",
   "metadata": {},
   "outputs": [],
   "source": [
    "y=bnotes['class']"
   ]
  },
  {
   "cell_type": "code",
   "execution_count": 12,
   "id": "7442eb72-1175-4d1b-bce2-3d104c7ff919",
   "metadata": {},
   "outputs": [],
   "source": [
    "x_train,x_test,y_train,y_test=train_test_split(x,y,test_size=0.2)"
   ]
  },
  {
   "cell_type": "code",
   "execution_count": 13,
   "id": "f6e07d9b-5eb8-44a3-a700-ddb78feb91b5",
   "metadata": {},
   "outputs": [],
   "source": [
    "activations = ['relu', 'logistic', 'tanh', 'identity']"
   ]
  },
  {
   "cell_type": "code",
   "execution_count": null,
   "id": "d68528d8-cf54-402b-bda8-bab2b7f375d1",
   "metadata": {},
   "outputs": [],
   "source": [
    "for activation in activations:\n",
    "    print(f\"\\nTraining MLPClassifier with activation function: {activation}\")\n",
    "    mlp = MLPClassifier(max_iter=500, activation=activation)\n",
    "    mlp.fit(x_train, y_train)\n",
    "    pred = mlp.predict(x_test)\n",
    "    print(\"Confusion Matrix:\")\n",
    "    print(confusion_matrix(y_test, pred))\n",
    "    print(\"\\nClassification Report:\")\n",
    "    print(classification_report(y_test, pred))\n"
   ]
  }
 ],
 "metadata": {
  "kernelspec": {
   "display_name": "Python 3 (ipykernel)",
   "language": "python",
   "name": "python3"
  },
  "language_info": {
   "codemirror_mode": {
    "name": "ipython",
    "version": 3
   },
   "file_extension": ".py",
   "mimetype": "text/x-python",
   "name": "python",
   "nbconvert_exporter": "python",
   "pygments_lexer": "ipython3",
   "version": "3.11.5"
  }
 },
 "nbformat": 4,
 "nbformat_minor": 5
}
